{
 "metadata": {
  "kernelspec": {
   "display_name": "Python 3",
   "language": "python",
   "name": "python3"
  },
  "language_info": {
   "codemirror_mode": {
    "name": "ipython",
    "version": 3
   },
   "file_extension": ".py",
   "mimetype": "text/x-python",
   "name": "python",
   "nbconvert_exporter": "python",
   "pygments_lexer": "ipython3",
   "version": "3.5.0+"
  },
  "name": ""
 },
 "nbformat": 3,
 "nbformat_minor": 0,
 "worksheets": [
  {
   "cells": [
    {
     "cell_type": "markdown",
     "metadata": {
      "ein.tags": [
       "worksheet-0"
      ],
      "slideshow": {
       "slide_type": "-"
      }
     },
     "source": [
      "http://seananderson.ca/2013/10/19/reshape.html"
     ]
    },
    {
     "cell_type": "heading",
     "level": 1,
     "metadata": {},
     "source": [
      "Tabular Data Gym 2. Reshaping."
     ]
    },
    {
     "cell_type": "code",
     "collapsed": false,
     "input": [
      "import numpy as np\n",
      "import pandas as pd\n",
      "import matplotlib.pyplot as plt\n",
      "import matplotlib.style\n",
      "matplotlib.style.use('ggplot')\n",
      "\n",
      "%matplotlib inline"
     ],
     "language": "python",
     "metadata": {
      "autoscroll": "json-false",
      "ein.tags": [
       "worksheet-0"
      ],
      "slideshow": {
       "slide_type": "-"
      }
     },
     "outputs": [],
     "prompt_number": 2
    },
    {
     "cell_type": "code",
     "collapsed": false,
     "input": [
      "%load_ext rpy2.ipython"
     ],
     "language": "python",
     "metadata": {
      "autoscroll": "json-false",
      "ein.tags": [
       "worksheet-0"
      ],
      "slideshow": {
       "slide_type": "-"
      }
     },
     "outputs": [],
     "prompt_number": 3
    },
    {
     "cell_type": "code",
     "collapsed": false,
     "input": [
      "%%R\n",
      "library(magrittr)\n",
      "library(ggplot2)\n",
      "library(dplyr)\n",
      "library(reshape2)"
     ],
     "language": "python",
     "metadata": {
      "autoscroll": "json-false",
      "ein.tags": [
       "worksheet-0"
      ],
      "slideshow": {
       "slide_type": "-"
      }
     },
     "outputs": [
      {
       "output_type": "stream",
       "stream": "stderr",
       "text": [
        "/usr/lib/python3/dist-packages/rpy2/robjects/functions.py:106: UserWarning: \n",
        "Attaching package: \u2018dplyr\u2019\n",
        "\n",
        "\n",
        "  res = super(Function, self).__call__(*new_args, **new_kwargs)\n",
        "/usr/lib/python3/dist-packages/rpy2/robjects/functions.py:106: UserWarning: The following objects are masked from \u2018package:stats\u2019:\n",
        "\n",
        "    filter, lag\n",
        "\n",
        "\n",
        "  res = super(Function, self).__call__(*new_args, **new_kwargs)\n",
        "/usr/lib/python3/dist-packages/rpy2/robjects/functions.py:106: UserWarning: The following objects are masked from \u2018package:base\u2019:\n",
        "\n",
        "    intersect, setdiff, setequal, union\n",
        "\n",
        "\n",
        "  res = super(Function, self).__call__(*new_args, **new_kwargs)\n"
       ]
      }
     ],
     "prompt_number": 4
    },
    {
     "cell_type": "code",
     "collapsed": false,
     "input": [
      "%%R\n",
      "names(airquality) <- tolower(names(airquality))\n",
      "head(airquality)"
     ],
     "language": "python",
     "metadata": {
      "autoscroll": "json-false",
      "ein.tags": [
       "worksheet-0"
      ],
      "slideshow": {
       "slide_type": "-"
      }
     },
     "outputs": [
      {
       "metadata": {},
       "output_type": "display_data",
       "text": [
        "  ozone solar.r wind temp month day\n",
        "1    41     190  7.4   67     5   1\n",
        "2    36     118  8.0   72     5   2\n",
        "3    12     149 12.6   74     5   3\n",
        "4    18     313 11.5   62     5   4\n",
        "5    NA      NA 14.3   56     5   5\n",
        "6    28      NA 14.9   66     5   6\n"
       ]
      }
     ],
     "prompt_number": 5
    },
    {
     "cell_type": "code",
     "collapsed": false,
     "input": [
      "aq_pd = %R airquality\n",
      "aq_pd.head()"
     ],
     "language": "python",
     "metadata": {
      "autoscroll": "json-false",
      "ein.tags": [
       "worksheet-0"
      ],
      "slideshow": {
       "slide_type": "-"
      }
     },
     "outputs": [
      {
       "html": [
        "<div style=\"max-width:1500px;overflow:auto;\">\n",
        "<table border=\"1\" class=\"dataframe\">\n",
        "  <thead>\n",
        "    <tr style=\"text-align: right;\">\n",
        "      <th></th>\n",
        "      <th>ozone</th>\n",
        "      <th>solar.r</th>\n",
        "      <th>wind</th>\n",
        "      <th>temp</th>\n",
        "      <th>month</th>\n",
        "      <th>day</th>\n",
        "    </tr>\n",
        "  </thead>\n",
        "  <tbody>\n",
        "    <tr>\n",
        "      <th>1</th>\n",
        "      <td>41</td>\n",
        "      <td>190</td>\n",
        "      <td>7.4</td>\n",
        "      <td>67</td>\n",
        "      <td>5</td>\n",
        "      <td>1</td>\n",
        "    </tr>\n",
        "    <tr>\n",
        "      <th>2</th>\n",
        "      <td>36</td>\n",
        "      <td>118</td>\n",
        "      <td>8.0</td>\n",
        "      <td>72</td>\n",
        "      <td>5</td>\n",
        "      <td>2</td>\n",
        "    </tr>\n",
        "    <tr>\n",
        "      <th>3</th>\n",
        "      <td>12</td>\n",
        "      <td>149</td>\n",
        "      <td>12.6</td>\n",
        "      <td>74</td>\n",
        "      <td>5</td>\n",
        "      <td>3</td>\n",
        "    </tr>\n",
        "    <tr>\n",
        "      <th>4</th>\n",
        "      <td>18</td>\n",
        "      <td>313</td>\n",
        "      <td>11.5</td>\n",
        "      <td>62</td>\n",
        "      <td>5</td>\n",
        "      <td>4</td>\n",
        "    </tr>\n",
        "    <tr>\n",
        "      <th>5</th>\n",
        "      <td>-2147483648</td>\n",
        "      <td>-2147483648</td>\n",
        "      <td>14.3</td>\n",
        "      <td>56</td>\n",
        "      <td>5</td>\n",
        "      <td>5</td>\n",
        "    </tr>\n",
        "  </tbody>\n",
        "</table>\n",
        "</div>"
       ],
       "metadata": {},
       "output_type": "pyout",
       "prompt_number": 6,
       "text": [
        "        ozone     solar.r  wind  temp  month  day\n",
        "1          41         190   7.4    67      5    1\n",
        "2          36         118   8.0    72      5    2\n",
        "3          12         149  12.6    74      5    3\n",
        "4          18         313  11.5    62      5    4\n",
        "5 -2147483648 -2147483648  14.3    56      5    5"
       ]
      }
     ],
     "prompt_number": 6
    },
    {
     "cell_type": "markdown",
     "metadata": {
      "ein.tags": [
       "worksheet-0"
      ],
      "slideshow": {
       "slide_type": "-"
      }
     },
     "source": [
      "Since `rpy2` does not treat NA well, we need to change it manually to `np.nan`."
     ]
    },
    {
     "cell_type": "code",
     "collapsed": false,
     "input": [
      "def fix_nans_in_df(colname, df):\n",
      "    df.ix[df[colname] < 0, colname] = np.NaN    \n",
      "\n",
      "for colname in aq_pd.columns.values:\n",
      "    fix_nans_in_df(colname, aq_pd)\n",
      "\n",
      "aq_pd.head()"
     ],
     "language": "python",
     "metadata": {
      "autoscroll": "json-false",
      "ein.tags": [
       "worksheet-0"
      ],
      "slideshow": {
       "slide_type": "-"
      }
     },
     "outputs": [
      {
       "html": [
        "<div style=\"max-width:1500px;overflow:auto;\">\n",
        "<table border=\"1\" class=\"dataframe\">\n",
        "  <thead>\n",
        "    <tr style=\"text-align: right;\">\n",
        "      <th></th>\n",
        "      <th>ozone</th>\n",
        "      <th>solar.r</th>\n",
        "      <th>wind</th>\n",
        "      <th>temp</th>\n",
        "      <th>month</th>\n",
        "      <th>day</th>\n",
        "    </tr>\n",
        "  </thead>\n",
        "  <tbody>\n",
        "    <tr>\n",
        "      <th>1</th>\n",
        "      <td>41</td>\n",
        "      <td>190</td>\n",
        "      <td>7.4</td>\n",
        "      <td>67</td>\n",
        "      <td>5</td>\n",
        "      <td>1</td>\n",
        "    </tr>\n",
        "    <tr>\n",
        "      <th>2</th>\n",
        "      <td>36</td>\n",
        "      <td>118</td>\n",
        "      <td>8.0</td>\n",
        "      <td>72</td>\n",
        "      <td>5</td>\n",
        "      <td>2</td>\n",
        "    </tr>\n",
        "    <tr>\n",
        "      <th>3</th>\n",
        "      <td>12</td>\n",
        "      <td>149</td>\n",
        "      <td>12.6</td>\n",
        "      <td>74</td>\n",
        "      <td>5</td>\n",
        "      <td>3</td>\n",
        "    </tr>\n",
        "    <tr>\n",
        "      <th>4</th>\n",
        "      <td>18</td>\n",
        "      <td>313</td>\n",
        "      <td>11.5</td>\n",
        "      <td>62</td>\n",
        "      <td>5</td>\n",
        "      <td>4</td>\n",
        "    </tr>\n",
        "    <tr>\n",
        "      <th>5</th>\n",
        "      <td>NaN</td>\n",
        "      <td>NaN</td>\n",
        "      <td>14.3</td>\n",
        "      <td>56</td>\n",
        "      <td>5</td>\n",
        "      <td>5</td>\n",
        "    </tr>\n",
        "  </tbody>\n",
        "</table>\n",
        "</div>"
       ],
       "metadata": {},
       "output_type": "pyout",
       "prompt_number": 7,
       "text": [
        "   ozone  solar.r  wind  temp  month  day\n",
        "1     41      190   7.4    67      5    1\n",
        "2     36      118   8.0    72      5    2\n",
        "3     12      149  12.6    74      5    3\n",
        "4     18      313  11.5    62      5    4\n",
        "5    NaN      NaN  14.3    56      5    5"
       ]
      }
     ],
     "prompt_number": 7
    },
    {
     "cell_type": "heading",
     "level": 2,
     "metadata": {
      "ein.tags": [
       "worksheet-0"
      ],
      "slideshow": {
       "slide_type": "-"
      }
     },
     "source": [
      "Melt/stack: changing wide format into long"
     ]
    },
    {
     "cell_type": "markdown",
     "metadata": {
      "ein.tags": [
       "worksheet-0"
      ],
      "slideshow": {
       "slide_type": "-"
      }
     },
     "source": [
      "R function `melt` from `reshape2` package change wide fromat into long. "
     ]
    },
    {
     "cell_type": "code",
     "collapsed": false,
     "input": [
      "%%R\n",
      "\n",
      "aql <- melt(airquality)\n",
      "aql %>% head"
     ],
     "language": "python",
     "metadata": {
      "autoscroll": "json-false",
      "ein.tags": [
       "worksheet-0"
      ],
      "slideshow": {
       "slide_type": "-"
      }
     },
     "outputs": [
      {
       "output_type": "stream",
       "stream": "stderr",
       "text": [
        "/usr/lib/python3/dist-packages/rpy2/robjects/functions.py:106: UserWarning: No id variables; using all as measure variables\n",
        "\n",
        "  res = super(Function, self).__call__(*new_args, **new_kwargs)\n"
       ]
      },
      {
       "metadata": {},
       "output_type": "display_data",
       "text": [
        "  variable value\n",
        "1    ozone    41\n",
        "2    ozone    36\n",
        "3    ozone    12\n",
        "4    ozone    18\n",
        "5    ozone    NA\n",
        "6    ozone    28\n"
       ]
      }
     ],
     "prompt_number": 8
    },
    {
     "cell_type": "markdown",
     "metadata": {
      "ein.tags": [
       "worksheet-0"
      ],
      "slideshow": {
       "slide_type": "-"
      }
     },
     "source": [
      "### Question 1\n",
      "\n",
      "One can get similar result using pandas' method `melt`. "
     ]
    },
    {
     "cell_type": "code",
     "collapsed": false,
     "input": [
      "pd.melt(aq_pd)"
     ],
     "language": "python",
     "metadata": {},
     "outputs": [
      {
       "html": [
        "<div style=\"max-width:1500px;overflow:auto;\">\n",
        "<table border=\"1\" class=\"dataframe\">\n",
        "  <thead>\n",
        "    <tr style=\"text-align: right;\">\n",
        "      <th></th>\n",
        "      <th>variable</th>\n",
        "      <th>value</th>\n",
        "    </tr>\n",
        "  </thead>\n",
        "  <tbody>\n",
        "    <tr>\n",
        "      <th>0</th>\n",
        "      <td>ozone</td>\n",
        "      <td>41</td>\n",
        "    </tr>\n",
        "    <tr>\n",
        "      <th>1</th>\n",
        "      <td>ozone</td>\n",
        "      <td>36</td>\n",
        "    </tr>\n",
        "    <tr>\n",
        "      <th>2</th>\n",
        "      <td>ozone</td>\n",
        "      <td>12</td>\n",
        "    </tr>\n",
        "    <tr>\n",
        "      <th>3</th>\n",
        "      <td>ozone</td>\n",
        "      <td>18</td>\n",
        "    </tr>\n",
        "    <tr>\n",
        "      <th>4</th>\n",
        "      <td>ozone</td>\n",
        "      <td>NaN</td>\n",
        "    </tr>\n",
        "    <tr>\n",
        "      <th>5</th>\n",
        "      <td>ozone</td>\n",
        "      <td>28</td>\n",
        "    </tr>\n",
        "    <tr>\n",
        "      <th>6</th>\n",
        "      <td>ozone</td>\n",
        "      <td>23</td>\n",
        "    </tr>\n",
        "    <tr>\n",
        "      <th>7</th>\n",
        "      <td>ozone</td>\n",
        "      <td>19</td>\n",
        "    </tr>\n",
        "    <tr>\n",
        "      <th>8</th>\n",
        "      <td>ozone</td>\n",
        "      <td>8</td>\n",
        "    </tr>\n",
        "    <tr>\n",
        "      <th>9</th>\n",
        "      <td>ozone</td>\n",
        "      <td>NaN</td>\n",
        "    </tr>\n",
        "    <tr>\n",
        "      <th>10</th>\n",
        "      <td>ozone</td>\n",
        "      <td>7</td>\n",
        "    </tr>\n",
        "    <tr>\n",
        "      <th>11</th>\n",
        "      <td>ozone</td>\n",
        "      <td>16</td>\n",
        "    </tr>\n",
        "    <tr>\n",
        "      <th>12</th>\n",
        "      <td>ozone</td>\n",
        "      <td>11</td>\n",
        "    </tr>\n",
        "    <tr>\n",
        "      <th>13</th>\n",
        "      <td>ozone</td>\n",
        "      <td>14</td>\n",
        "    </tr>\n",
        "    <tr>\n",
        "      <th>14</th>\n",
        "      <td>ozone</td>\n",
        "      <td>18</td>\n",
        "    </tr>\n",
        "    <tr>\n",
        "      <th>15</th>\n",
        "      <td>ozone</td>\n",
        "      <td>14</td>\n",
        "    </tr>\n",
        "    <tr>\n",
        "      <th>16</th>\n",
        "      <td>ozone</td>\n",
        "      <td>34</td>\n",
        "    </tr>\n",
        "    <tr>\n",
        "      <th>17</th>\n",
        "      <td>ozone</td>\n",
        "      <td>6</td>\n",
        "    </tr>\n",
        "    <tr>\n",
        "      <th>18</th>\n",
        "      <td>ozone</td>\n",
        "      <td>30</td>\n",
        "    </tr>\n",
        "    <tr>\n",
        "      <th>19</th>\n",
        "      <td>ozone</td>\n",
        "      <td>11</td>\n",
        "    </tr>\n",
        "    <tr>\n",
        "      <th>20</th>\n",
        "      <td>ozone</td>\n",
        "      <td>1</td>\n",
        "    </tr>\n",
        "    <tr>\n",
        "      <th>21</th>\n",
        "      <td>ozone</td>\n",
        "      <td>11</td>\n",
        "    </tr>\n",
        "    <tr>\n",
        "      <th>22</th>\n",
        "      <td>ozone</td>\n",
        "      <td>4</td>\n",
        "    </tr>\n",
        "    <tr>\n",
        "      <th>23</th>\n",
        "      <td>ozone</td>\n",
        "      <td>32</td>\n",
        "    </tr>\n",
        "    <tr>\n",
        "      <th>24</th>\n",
        "      <td>ozone</td>\n",
        "      <td>NaN</td>\n",
        "    </tr>\n",
        "    <tr>\n",
        "      <th>25</th>\n",
        "      <td>ozone</td>\n",
        "      <td>NaN</td>\n",
        "    </tr>\n",
        "    <tr>\n",
        "      <th>26</th>\n",
        "      <td>ozone</td>\n",
        "      <td>NaN</td>\n",
        "    </tr>\n",
        "    <tr>\n",
        "      <th>27</th>\n",
        "      <td>ozone</td>\n",
        "      <td>23</td>\n",
        "    </tr>\n",
        "    <tr>\n",
        "      <th>28</th>\n",
        "      <td>ozone</td>\n",
        "      <td>45</td>\n",
        "    </tr>\n",
        "    <tr>\n",
        "      <th>29</th>\n",
        "      <td>ozone</td>\n",
        "      <td>115</td>\n",
        "    </tr>\n",
        "    <tr>\n",
        "      <th>...</th>\n",
        "      <td>...</td>\n",
        "      <td>...</td>\n",
        "    </tr>\n",
        "    <tr>\n",
        "      <th>888</th>\n",
        "      <td>day</td>\n",
        "      <td>1</td>\n",
        "    </tr>\n",
        "    <tr>\n",
        "      <th>889</th>\n",
        "      <td>day</td>\n",
        "      <td>2</td>\n",
        "    </tr>\n",
        "    <tr>\n",
        "      <th>890</th>\n",
        "      <td>day</td>\n",
        "      <td>3</td>\n",
        "    </tr>\n",
        "    <tr>\n",
        "      <th>891</th>\n",
        "      <td>day</td>\n",
        "      <td>4</td>\n",
        "    </tr>\n",
        "    <tr>\n",
        "      <th>892</th>\n",
        "      <td>day</td>\n",
        "      <td>5</td>\n",
        "    </tr>\n",
        "    <tr>\n",
        "      <th>893</th>\n",
        "      <td>day</td>\n",
        "      <td>6</td>\n",
        "    </tr>\n",
        "    <tr>\n",
        "      <th>894</th>\n",
        "      <td>day</td>\n",
        "      <td>7</td>\n",
        "    </tr>\n",
        "    <tr>\n",
        "      <th>895</th>\n",
        "      <td>day</td>\n",
        "      <td>8</td>\n",
        "    </tr>\n",
        "    <tr>\n",
        "      <th>896</th>\n",
        "      <td>day</td>\n",
        "      <td>9</td>\n",
        "    </tr>\n",
        "    <tr>\n",
        "      <th>897</th>\n",
        "      <td>day</td>\n",
        "      <td>10</td>\n",
        "    </tr>\n",
        "    <tr>\n",
        "      <th>898</th>\n",
        "      <td>day</td>\n",
        "      <td>11</td>\n",
        "    </tr>\n",
        "    <tr>\n",
        "      <th>899</th>\n",
        "      <td>day</td>\n",
        "      <td>12</td>\n",
        "    </tr>\n",
        "    <tr>\n",
        "      <th>900</th>\n",
        "      <td>day</td>\n",
        "      <td>13</td>\n",
        "    </tr>\n",
        "    <tr>\n",
        "      <th>901</th>\n",
        "      <td>day</td>\n",
        "      <td>14</td>\n",
        "    </tr>\n",
        "    <tr>\n",
        "      <th>902</th>\n",
        "      <td>day</td>\n",
        "      <td>15</td>\n",
        "    </tr>\n",
        "    <tr>\n",
        "      <th>903</th>\n",
        "      <td>day</td>\n",
        "      <td>16</td>\n",
        "    </tr>\n",
        "    <tr>\n",
        "      <th>904</th>\n",
        "      <td>day</td>\n",
        "      <td>17</td>\n",
        "    </tr>\n",
        "    <tr>\n",
        "      <th>905</th>\n",
        "      <td>day</td>\n",
        "      <td>18</td>\n",
        "    </tr>\n",
        "    <tr>\n",
        "      <th>906</th>\n",
        "      <td>day</td>\n",
        "      <td>19</td>\n",
        "    </tr>\n",
        "    <tr>\n",
        "      <th>907</th>\n",
        "      <td>day</td>\n",
        "      <td>20</td>\n",
        "    </tr>\n",
        "    <tr>\n",
        "      <th>908</th>\n",
        "      <td>day</td>\n",
        "      <td>21</td>\n",
        "    </tr>\n",
        "    <tr>\n",
        "      <th>909</th>\n",
        "      <td>day</td>\n",
        "      <td>22</td>\n",
        "    </tr>\n",
        "    <tr>\n",
        "      <th>910</th>\n",
        "      <td>day</td>\n",
        "      <td>23</td>\n",
        "    </tr>\n",
        "    <tr>\n",
        "      <th>911</th>\n",
        "      <td>day</td>\n",
        "      <td>24</td>\n",
        "    </tr>\n",
        "    <tr>\n",
        "      <th>912</th>\n",
        "      <td>day</td>\n",
        "      <td>25</td>\n",
        "    </tr>\n",
        "    <tr>\n",
        "      <th>913</th>\n",
        "      <td>day</td>\n",
        "      <td>26</td>\n",
        "    </tr>\n",
        "    <tr>\n",
        "      <th>914</th>\n",
        "      <td>day</td>\n",
        "      <td>27</td>\n",
        "    </tr>\n",
        "    <tr>\n",
        "      <th>915</th>\n",
        "      <td>day</td>\n",
        "      <td>28</td>\n",
        "    </tr>\n",
        "    <tr>\n",
        "      <th>916</th>\n",
        "      <td>day</td>\n",
        "      <td>29</td>\n",
        "    </tr>\n",
        "    <tr>\n",
        "      <th>917</th>\n",
        "      <td>day</td>\n",
        "      <td>30</td>\n",
        "    </tr>\n",
        "  </tbody>\n",
        "</table>\n",
        "<p>918 rows \u00d7 2 columns</p>\n",
        "</div>"
       ],
       "metadata": {},
       "output_type": "pyout",
       "prompt_number": 10,
       "text": [
        "    variable  value\n",
        "0      ozone     41\n",
        "1      ozone     36\n",
        "2      ozone     12\n",
        "3      ozone     18\n",
        "4      ozone    NaN\n",
        "5      ozone     28\n",
        "6      ozone     23\n",
        "7      ozone     19\n",
        "8      ozone      8\n",
        "9      ozone    NaN\n",
        "10     ozone      7\n",
        "11     ozone     16\n",
        "12     ozone     11\n",
        "13     ozone     14\n",
        "14     ozone     18\n",
        "15     ozone     14\n",
        "16     ozone     34\n",
        "17     ozone      6\n",
        "18     ozone     30\n",
        "19     ozone     11\n",
        "20     ozone      1\n",
        "21     ozone     11\n",
        "22     ozone      4\n",
        "23     ozone     32\n",
        "24     ozone    NaN\n",
        "25     ozone    NaN\n",
        "26     ozone    NaN\n",
        "27     ozone     23\n",
        "28     ozone     45\n",
        "29     ozone    115\n",
        "..       ...    ...\n",
        "888      day      1\n",
        "889      day      2\n",
        "890      day      3\n",
        "891      day      4\n",
        "892      day      5\n",
        "893      day      6\n",
        "894      day      7\n",
        "895      day      8\n",
        "896      day      9\n",
        "897      day     10\n",
        "898      day     11\n",
        "899      day     12\n",
        "900      day     13\n",
        "901      day     14\n",
        "902      day     15\n",
        "903      day     16\n",
        "904      day     17\n",
        "905      day     18\n",
        "906      day     19\n",
        "907      day     20\n",
        "908      day     21\n",
        "909      day     22\n",
        "910      day     23\n",
        "911      day     24\n",
        "912      day     25\n",
        "913      day     26\n",
        "914      day     27\n",
        "915      day     28\n",
        "916      day     29\n",
        "917      day     30\n",
        "\n",
        "[918 rows x 2 columns]"
       ]
      }
     ],
     "prompt_number": 10
    },
    {
     "cell_type": "heading",
     "level": 3,
     "metadata": {},
     "source": [
      "Question 2"
     ]
    },
    {
     "cell_type": "code",
     "collapsed": false,
     "input": [
      "%%R\n",
      "airquality %>%\n",
      "    melt(id.vars = c(\"month\", \"day\")) %>%\n",
      "    head()"
     ],
     "language": "python",
     "metadata": {
      "autoscroll": "json-false",
      "ein.tags": [
       "worksheet-0"
      ],
      "slideshow": {
       "slide_type": "-"
      }
     },
     "outputs": [
      {
       "metadata": {},
       "output_type": "display_data",
       "text": [
        "  month day variable value\n",
        "1     5   1    ozone    41\n",
        "2     5   2    ozone    36\n",
        "3     5   3    ozone    12\n",
        "4     5   4    ozone    18\n",
        "5     5   5    ozone    NA\n",
        "6     5   6    ozone    28\n"
       ]
      }
     ],
     "prompt_number": 8
    },
    {
     "cell_type": "markdown",
     "metadata": {},
     "source": [
      "Now let's try to get it with pandas."
     ]
    },
    {
     "cell_type": "code",
     "collapsed": false,
     "input": [
      "aql_pd = pd.melt(aq_pd, id_vars=['month','day'])\n",
      "aql_pd.head(6)"
     ],
     "language": "python",
     "metadata": {
      "autoscroll": "json-false",
      "ein.tags": [
       "worksheet-0"
      ],
      "slideshow": {
       "slide_type": "-"
      }
     },
     "outputs": [
      {
       "html": [
        "<div style=\"max-width:1500px;overflow:auto;\">\n",
        "<table border=\"1\" class=\"dataframe\">\n",
        "  <thead>\n",
        "    <tr style=\"text-align: right;\">\n",
        "      <th></th>\n",
        "      <th>month</th>\n",
        "      <th>day</th>\n",
        "      <th>variable</th>\n",
        "      <th>value</th>\n",
        "    </tr>\n",
        "  </thead>\n",
        "  <tbody>\n",
        "    <tr>\n",
        "      <th>0</th>\n",
        "      <td>5</td>\n",
        "      <td>1</td>\n",
        "      <td>ozone</td>\n",
        "      <td>41</td>\n",
        "    </tr>\n",
        "    <tr>\n",
        "      <th>1</th>\n",
        "      <td>5</td>\n",
        "      <td>2</td>\n",
        "      <td>ozone</td>\n",
        "      <td>36</td>\n",
        "    </tr>\n",
        "    <tr>\n",
        "      <th>2</th>\n",
        "      <td>5</td>\n",
        "      <td>3</td>\n",
        "      <td>ozone</td>\n",
        "      <td>12</td>\n",
        "    </tr>\n",
        "    <tr>\n",
        "      <th>3</th>\n",
        "      <td>5</td>\n",
        "      <td>4</td>\n",
        "      <td>ozone</td>\n",
        "      <td>18</td>\n",
        "    </tr>\n",
        "    <tr>\n",
        "      <th>4</th>\n",
        "      <td>5</td>\n",
        "      <td>5</td>\n",
        "      <td>ozone</td>\n",
        "      <td>NaN</td>\n",
        "    </tr>\n",
        "    <tr>\n",
        "      <th>5</th>\n",
        "      <td>5</td>\n",
        "      <td>6</td>\n",
        "      <td>ozone</td>\n",
        "      <td>28</td>\n",
        "    </tr>\n",
        "  </tbody>\n",
        "</table>\n",
        "</div>"
       ],
       "metadata": {},
       "output_type": "pyout",
       "prompt_number": 18,
       "text": [
        "   month  day variable  value\n",
        "0      5    1    ozone     41\n",
        "1      5    2    ozone     36\n",
        "2      5    3    ozone     12\n",
        "3      5    4    ozone     18\n",
        "4      5    5    ozone    NaN\n",
        "5      5    6    ozone     28"
       ]
      }
     ],
     "prompt_number": 18
    },
    {
     "cell_type": "heading",
     "level": 2,
     "metadata": {},
     "source": [
      "Question 3 Putting names to columns"
     ]
    },
    {
     "cell_type": "code",
     "collapsed": false,
     "input": [
      "%%R\n",
      "\n",
      "aql <-\n",
      "  melt(airquality, id.vars = c(\"month\", \"day\"),\n",
      "  variable.name = \"climate_variable\", \n",
      "  value.name = \"climate_value\") %>%\n",
      "  mutate(date=as.Date(paste0(\"2015-\",month,'-',day)))\n",
      "head(aql)"
     ],
     "language": "python",
     "metadata": {},
     "outputs": [
      {
       "metadata": {},
       "output_type": "display_data",
       "text": [
        "  month day climate_variable climate_value       date\n",
        "1     5   1            ozone            41 2015-05-01\n",
        "2     5   2            ozone            36 2015-05-02\n",
        "3     5   3            ozone            12 2015-05-03\n",
        "4     5   4            ozone            18 2015-05-04\n",
        "5     5   5            ozone            NA 2015-05-05\n",
        "6     5   6            ozone            28 2015-05-06\n"
       ]
      }
     ],
     "prompt_number": 16
    },
    {
     "cell_type": "markdown",
     "metadata": {},
     "source": [
      "Your turn with pandas."
     ]
    },
    {
     "cell_type": "code",
     "collapsed": false,
     "input": [
      "pd.melt(aq_pd,id_vars=['month','day'], var_name='climate_variable', value_name='climate_value').head()"
     ],
     "language": "python",
     "metadata": {},
     "outputs": [
      {
       "html": [
        "<div style=\"max-width:1500px;overflow:auto;\">\n",
        "<table border=\"1\" class=\"dataframe\">\n",
        "  <thead>\n",
        "    <tr style=\"text-align: right;\">\n",
        "      <th></th>\n",
        "      <th>month</th>\n",
        "      <th>day</th>\n",
        "      <th>climate_variable</th>\n",
        "      <th>climate_value</th>\n",
        "    </tr>\n",
        "  </thead>\n",
        "  <tbody>\n",
        "    <tr>\n",
        "      <th>0</th>\n",
        "      <td>5</td>\n",
        "      <td>1</td>\n",
        "      <td>ozone</td>\n",
        "      <td>41</td>\n",
        "    </tr>\n",
        "    <tr>\n",
        "      <th>1</th>\n",
        "      <td>5</td>\n",
        "      <td>2</td>\n",
        "      <td>ozone</td>\n",
        "      <td>36</td>\n",
        "    </tr>\n",
        "    <tr>\n",
        "      <th>2</th>\n",
        "      <td>5</td>\n",
        "      <td>3</td>\n",
        "      <td>ozone</td>\n",
        "      <td>12</td>\n",
        "    </tr>\n",
        "    <tr>\n",
        "      <th>3</th>\n",
        "      <td>5</td>\n",
        "      <td>4</td>\n",
        "      <td>ozone</td>\n",
        "      <td>18</td>\n",
        "    </tr>\n",
        "    <tr>\n",
        "      <th>4</th>\n",
        "      <td>5</td>\n",
        "      <td>5</td>\n",
        "      <td>ozone</td>\n",
        "      <td>NaN</td>\n",
        "    </tr>\n",
        "  </tbody>\n",
        "</table>\n",
        "</div>"
       ],
       "metadata": {},
       "output_type": "pyout",
       "prompt_number": 19,
       "text": [
        "   month  day climate_variable  climate_value\n",
        "0      5    1            ozone             41\n",
        "1      5    2            ozone             36\n",
        "2      5    3            ozone             12\n",
        "3      5    4            ozone             18\n",
        "4      5    5            ozone            NaN"
       ]
      }
     ],
     "prompt_number": 19
    },
    {
     "cell_type": "markdown",
     "metadata": {},
     "source": [
      "### Comments about ploting\n",
      "\n",
      "When one uses ggplot it is natural to use long format when ploting."
     ]
    },
    {
     "cell_type": "code",
     "collapsed": false,
     "input": [
      "%%R\n",
      "aql %>%\n",
      "  ggplot() +\n",
      "  geom_line(aes(date, climate_value, colour=climate_variable))"
     ],
     "language": "python",
     "metadata": {
      "autoscroll": "json-false",
      "ein.tags": [
       "worksheet-0"
      ],
      "slideshow": {
       "slide_type": "-"
      }
     },
     "outputs": [
      {
       "metadata": {},
       "output_type": "display_data",
       "png": "[encoded data removed]"
      }
     ],
     "prompt_number": 10
    },
    {
     "cell_type": "markdown",
     "metadata": {
      "autoscroll": "json-false",
      "collapsed": false,
      "ein.tags": [
       "worksheet-0"
      ],
      "slideshow": {
       "slide_type": "-"
      }
     },
     "source": [
      "But with pandas' mathplotlib interface it is easier to use wild format.\n",
      "\n",
      "First let's create dates."
     ]
    },
    {
     "cell_type": "code",
     "collapsed": false,
     "input": [
      "aq_pd2= aq_pd.copy()\n",
      "\n",
      "aq_pd2['date'] = \\\n",
      "    [pd.Timestamp(s) \n",
      "     for s in ('2015-'+aq_pd['month'].astype(int).astype(str)+'-'\n",
      "               +aq_pd['day'].astype(int).astype(str))]"
     ],
     "language": "python",
     "metadata": {
      "autoscroll": "json-false",
      "ein.tags": [
       "worksheet-0"
      ],
      "slideshow": {
       "slide_type": "-"
      }
     },
     "outputs": [],
     "prompt_number": 11
    },
    {
     "cell_type": "markdown",
     "metadata": {},
     "source": [
      "Then selecting columns and adding aproprite index one get: "
     ]
    },
    {
     "cell_type": "code",
     "collapsed": false,
     "input": [
      "aq_pd2_indexed = aq_pd2[['date', 'ozone', 'solar.r', 'wind', 'temp']]\n",
      "aq_pd2_indexed.set_index('date')\n",
      "aq_pd2_indexed.plot()"
     ],
     "language": "python",
     "metadata": {},
     "outputs": [
      {
       "metadata": {},
       "output_type": "pyout",
       "prompt_number": 12,
       "text": [
        "<matplotlib.axes._subplots.AxesSubplot at 0x7f51cbee6668>"
       ]
      },
      {
       "metadata": {},
       "output_type": "display_data",
       "png": "[encoded data removed]",
       "text": [
        "<matplotlib.figure.Figure at 0x7f51cbefd400>"
       ]
      }
     ],
     "prompt_number": 12
    },
    {
     "cell_type": "heading",
     "level": 3,
     "metadata": {},
     "source": [
      "Question 4. Time for dcast"
     ]
    },
    {
     "cell_type": "code",
     "collapsed": false,
     "input": [
      "%%R\n",
      "aqw <- dcast(aql, month + day ~ variable)\n",
      "head(aqw)"
     ],
     "language": "python",
     "metadata": {},
     "outputs": [
      {
       "metadata": {},
       "output_type": "display_data",
       "text": [
        "  month day ozone solar.r wind temp\n",
        "1     5   1    41     190  7.4   67\n",
        "2     5   2    36     118  8.0   72\n",
        "3     5   3    12     149 12.6   74\n",
        "4     5   4    18     313 11.5   62\n",
        "5     5   5    NA      NA 14.3   56\n",
        "6     5   6    28      NA 14.9   66\n"
       ]
      }
     ],
     "prompt_number": 14
    },
    {
     "cell_type": "markdown",
     "metadata": {},
     "source": [
      "The approprite pandas method seems to be `pivot_table`. Can you try?"
     ]
    },
    {
     "cell_type": "code",
     "collapsed": false,
     "input": [],
     "language": "python",
     "metadata": {},
     "outputs": [],
     "prompt_number": null
    },
    {
     "cell_type": "markdown",
     "metadata": {},
     "source": [
      "### Question 5. Melting with stack\n",
      "\n",
      "There is another pandas' method for maelting. It is called stack. Can you try it with `aq_pd`? What is the type of the result? Can you make it to be DataFrame with comlumns `varaiable` and `value`?"
     ]
    },
    {
     "cell_type": "code",
     "collapsed": false,
     "input": [],
     "language": "python",
     "metadata": {
      "autoscroll": "json-false",
      "ein.tags": [
       "worksheet-0"
      ],
      "slideshow": {
       "slide_type": "-"
      }
     },
     "outputs": [],
     "prompt_number": null
    },
    {
     "cell_type": "code",
     "collapsed": false,
     "input": [],
     "language": "python",
     "metadata": {
      "autoscroll": "json-false",
      "ein.tags": [
       "worksheet-0"
      ],
      "slideshow": {
       "slide_type": "-"
      }
     },
     "outputs": [],
     "prompt_number": null
    },
    {
     "cell_type": "code",
     "collapsed": false,
     "input": [],
     "language": "python",
     "metadata": {
      "autoscroll": "json-false",
      "ein.tags": [
       "worksheet-0"
      ],
      "slideshow": {
       "slide_type": "-"
      }
     },
     "outputs": [],
     "prompt_number": null
    },
    {
     "cell_type": "code",
     "collapsed": false,
     "input": [],
     "language": "python",
     "metadata": {
      "autoscroll": "json-false",
      "ein.tags": [
       "worksheet-0"
      ],
      "slideshow": {
       "slide_type": "-"
      }
     },
     "outputs": [
      {
       "html": [
        "<div>\n",
        "<table border=\"1\" class=\"dataframe\">\n",
        "  <thead>\n",
        "    <tr style=\"text-align: right;\">\n",
        "      <th></th>\n",
        "      <th>variable</th>\n",
        "      <th>value</th>\n",
        "    </tr>\n",
        "  </thead>\n",
        "  <tbody>\n",
        "    <tr>\n",
        "      <th>1</th>\n",
        "      <td>ozone</td>\n",
        "      <td>41.0</td>\n",
        "    </tr>\n",
        "    <tr>\n",
        "      <th>1</th>\n",
        "      <td>solar.r</td>\n",
        "      <td>190.0</td>\n",
        "    </tr>\n",
        "    <tr>\n",
        "      <th>1</th>\n",
        "      <td>wind</td>\n",
        "      <td>7.4</td>\n",
        "    </tr>\n",
        "    <tr>\n",
        "      <th>1</th>\n",
        "      <td>temp</td>\n",
        "      <td>67.0</td>\n",
        "    </tr>\n",
        "    <tr>\n",
        "      <th>1</th>\n",
        "      <td>month</td>\n",
        "      <td>5.0</td>\n",
        "    </tr>\n",
        "  </tbody>\n",
        "</table>\n",
        "</div>"
       ],
       "metadata": {},
       "output_type": "pyout",
       "prompt_number": 208,
       "text": [
        "  variable  value\n",
        "1    ozone   41.0\n",
        "1  solar.r  190.0\n",
        "1     wind    7.4\n",
        "1     temp   67.0\n",
        "1    month    5.0"
       ]
      }
     ],
     "prompt_number": 208
    },
    {
     "cell_type": "heading",
     "level": 3,
     "metadata": {},
     "source": [
      "Question 6. Melt, filter, group, agregate."
     ]
    },
    {
     "cell_type": "code",
     "collapsed": false,
     "input": [
      "%%R\n",
      "aql %>% head"
     ],
     "language": "python",
     "metadata": {},
     "outputs": [
      {
       "metadata": {},
       "output_type": "display_data",
       "text": [
        "  month day variable value\n",
        "1     5   1    ozone    41\n",
        "2     5   2    ozone    36\n",
        "3     5   3    ozone    12\n",
        "4     5   4    ozone    18\n",
        "5     5   5    ozone    NA\n",
        "6     5   6    ozone    28\n"
       ]
      }
     ],
     "prompt_number": 209
    },
    {
     "cell_type": "code",
     "collapsed": false,
     "input": [
      "%%R\n",
      "airquality %>%\n",
      "    melt(id.vars = c(\"month\", \"day\")) %>%\n",
      "    filter(!is.na(value)) %>%\n",
      "    group_by(variable) %>%\n",
      "    summarize(total= sum(value))  "
     ],
     "language": "python",
     "metadata": {},
     "outputs": [
      {
       "metadata": {},
       "output_type": "display_data",
       "text": [
        "# A tibble: 4 \u00d7 2\n",
        "  variable   total\n",
        "    <fctr>   <dbl>\n",
        "1    ozone  4887.0\n",
        "2  solar.r 27146.0\n",
        "3     wind  1523.5\n",
        "4     temp 11916.0\n"
       ]
      }
     ],
     "prompt_number": 214
    },
    {
     "cell_type": "code",
     "collapsed": false,
     "input": [
      "%%R\n",
      "library(data.table)\n",
      "data.table(airquality) %>%\n",
      "    melt(id.vars = c(\"month\", \"day\")) %>%\n",
      "    .[!is.na(value), .(total=sum(value)), by=variable]"
     ],
     "language": "python",
     "metadata": {},
     "outputs": [
      {
       "metadata": {},
       "output_type": "display_data",
       "text": [
        "   variable   total\n",
        "1:    ozone  4887.0\n",
        "2:  solar.r 27146.0\n",
        "3:     wind  1523.5\n",
        "4:     temp 11916.0\n"
       ]
      }
     ],
     "prompt_number": 215
    },
    {
     "cell_type": "markdown",
     "metadata": {},
     "source": [
      "Time for doing this with pands:"
     ]
    },
    {
     "cell_type": "code",
     "collapsed": true,
     "input": [],
     "language": "python",
     "metadata": {},
     "outputs": [],
     "prompt_number": null
    }
   ],
   "metadata": {}
  }
 ]
}