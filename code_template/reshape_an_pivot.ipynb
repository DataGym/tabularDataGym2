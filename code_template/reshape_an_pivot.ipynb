{
 "cells": [
  {
   "cell_type": "markdown",
   "metadata": {
    "ein.tags": [
     "worksheet-0"
    ],
    "slideshow": {
     "slide_type": "-"
    }
   },
   "source": [
    "http://seananderson.ca/2013/10/19/reshape.html"
   ]
  },
  {
   "cell_type": "code",
   "execution_count": 18,
   "metadata": {
    "autoscroll": "json-false",
    "collapsed": false,
    "ein.tags": [
     "worksheet-0"
    ],
    "slideshow": {
     "slide_type": "-"
    }
   },
   "outputs": [],
   "source": [
    "import numpy as np\n",
    "import pandas as pd"
   ]
  },
  {
   "cell_type": "code",
   "execution_count": 23,
   "metadata": {
    "autoscroll": "json-false",
    "collapsed": false,
    "ein.tags": [
     "worksheet-0"
    ],
    "slideshow": {
     "slide_type": "-"
    }
   },
   "outputs": [],
   "source": [
    "# from rpy2.robjects import r\n",
    "# from rpy2.robjects.pandas2ri import ri2py\n",
    "\n",
    "# airquality = ri2py(r('airquality'))\n",
    "\n",
    "# airquality.columns = [s.lower() for s in list(airquality.columns.values)]\n",
    "# airquality.head()"
   ]
  },
  {
   "cell_type": "code",
   "execution_count": 15,
   "metadata": {
    "autoscroll": "json-false",
    "collapsed": false,
    "ein.tags": [
     "worksheet-0"
    ],
    "slideshow": {
     "slide_type": "-"
    }
   },
   "outputs": [],
   "source": [
    "%load_ext rpy2.ipython"
   ]
  },
  {
   "cell_type": "code",
   "execution_count": 45,
   "metadata": {
    "autoscroll": "json-false",
    "collapsed": false,
    "ein.tags": [
     "worksheet-0"
    ],
    "slideshow": {
     "slide_type": "-"
    }
   },
   "outputs": [
    {
     "data": {
      "text/plain": [
       "   ozone solar.r wind temp month day\n",
       "1:    41     190  7.4   67     5   1\n",
       "2:    36     118  8.0   72     5   2\n",
       "3:    12     149 12.6   74     5   3\n",
       "4:    18     313 11.5   62     5   4\n",
       "5:    NA      NA 14.3   56     5   5\n",
       "6:    28      NA 14.9   66     5   6\n"
      ]
     },
     "metadata": {},
     "output_type": "display_data"
    }
   ],
   "source": [
    "%%R\n",
    "names(airquality) <- tolower(names(airquality))\n",
    "head(airquality)"
   ]
  },
  {
   "cell_type": "code",
   "execution_count": 67,
   "metadata": {
    "autoscroll": "json-false",
    "collapsed": false,
    "ein.tags": [
     "worksheet-0"
    ],
    "slideshow": {
     "slide_type": "-"
    }
   },
   "outputs": [
    {
     "data": {
      "text/plain": [
       "        ozone     solar.r  wind  temp  month  day\n",
       "1          41         190   7.4    67      5    1\n",
       "2          36         118   8.0    72      5    2\n",
       "3          12         149  12.6    74      5    3\n",
       "4          18         313  11.5    62      5    4\n",
       "5 -2147483648 -2147483648  14.3    56      5    5"
      ]
     },
     "execution_count": 67,
     "metadata": {},
     "output_type": "execute_result"
    }
   ],
   "source": [
    "aq_pd = %R airquality\n",
    "aq_pd.head()\n"
   ]
  },
  {
   "cell_type": "markdown",
   "metadata": {
    "ein.tags": [
     "worksheet-0"
    ],
    "slideshow": {
     "slide_type": "-"
    }
   },
   "source": [
    "Since `rpy2` does not treat NA well, we need to change it manually to `np.nan`."
   ]
  },
  {
   "cell_type": "code",
   "execution_count": 68,
   "metadata": {
    "autoscroll": "json-false",
    "collapsed": false,
    "ein.tags": [
     "worksheet-0"
    ],
    "slideshow": {
     "slide_type": "-"
    }
   },
   "outputs": [
    {
     "data": {
      "text/plain": [
       "   ozone  solar.r  wind  temp  month  day\n",
       "1     41      190   7.4    67      5    1\n",
       "2     36      118   8.0    72      5    2\n",
       "3     12      149  12.6    74      5    3\n",
       "4     18      313  11.5    62      5    4\n",
       "5    NaN      NaN  14.3    56      5    5"
      ]
     },
     "execution_count": 68,
     "metadata": {},
     "output_type": "execute_result"
    }
   ],
   "source": [
    "def fix_nans_in_df(colname, df):\n",
    "    df.ix[df[colname] < 0, colname] = np.NaN    \n",
    "\n",
    "for colname in aq_pd.columns.values:\n",
    "    fix_nans_in_df(colname, aq_pd)\n",
    "\n",
    "aq_pd.head()"
   ]
  },
  {
   "cell_type": "code",
   "execution_count": 69,
   "metadata": {
    "autoscroll": "json-false",
    "collapsed": false,
    "ein.tags": [
     "worksheet-0"
    ],
    "slideshow": {
     "slide_type": "-"
    }
   },
   "outputs": [
    {
     "data": {
      "text/plain": [
       "   variable value\n",
       "1:    ozone    41\n",
       "2:    ozone    36\n",
       "3:    ozone    12\n",
       "4:    ozone    18\n",
       "5:    ozone    NA\n",
       "6:    ozone    28\n"
      ]
     },
     "metadata": {},
     "output_type": "display_data"
    }
   ],
   "source": [
    "%%R\n",
    "\n",
    "aq_long <- melt(airquality) \n",
    "head(aq_long)"
   ]
  },
  {
   "cell_type": "code",
   "execution_count": 81,
   "metadata": {
    "autoscroll": "json-false",
    "collapsed": false,
    "ein.tags": [
     "worksheet-0"
    ],
    "slideshow": {
     "slide_type": "-"
    }
   },
   "outputs": [
    {
     "data": {
      "text/plain": [
       "1  ozone       41.0\n",
       "   solar.r    190.0\n",
       "   wind         7.4\n",
       "   temp        67.0\n",
       "   month        5.0\n",
       "dtype: float64"
      ]
     },
     "execution_count": 81,
     "metadata": {},
     "output_type": "execute_result"
    }
   ],
   "source": [
    "##air_quality.columns = 'aaa'\n",
    "aq_pd_long=aq_pd.stack()\n",
    "aq_pd_long.head()"
   ]
  },
  {
   "cell_type": "code",
   "execution_count": 76,
   "metadata": {
    "autoscroll": "json-false",
    "collapsed": false,
    "ein.tags": [
     "worksheet-0"
    ],
    "slideshow": {
     "slide_type": "-"
    }
   },
   "outputs": [
    {
     "data": {
      "text/plain": [
       "pandas.core.series.Series"
      ]
     },
     "execution_count": 76,
     "metadata": {},
     "output_type": "execute_result"
    }
   ],
   "source": [
    "type(aq_pd_long)"
   ]
  },
  {
   "cell_type": "code",
   "execution_count": 0,
   "metadata": {
    "autoscroll": "json-false",
    "collapsed": false,
    "ein.tags": [
     "worksheet-0"
    ],
    "slideshow": {
     "slide_type": "-"
    }
   },
   "outputs": [],
   "source": [
    "aq_pd_long = aq_pd_long.to_frame().reset_index(level=1)"
   ]
  },
  {
   "cell_type": "code",
   "execution_count": 88,
   "metadata": {
    "autoscroll": "json-false",
    "collapsed": false,
    "ein.tags": [
     "worksheet-0"
    ],
    "slideshow": {
     "slide_type": "-"
    }
   },
   "outputs": [
    {
     "data": {
      "text/plain": [
       "  variable  value\n",
       "1    ozone   41.0\n",
       "1  solar.r  190.0\n",
       "1     wind    7.4\n",
       "1     temp   67.0\n",
       "1    month    5.0"
      ]
     },
     "execution_count": 88,
     "metadata": {},
     "output_type": "execute_result"
    }
   ],
   "source": [
    "aq_pd_long.columns = [\"variable\", \"value\"]\n",
    "aq_pd_long.head()"
   ]
  }
 ],
 "metadata": {
  "kernelspec": {
   "display_name": "Python 3",
   "name": "python3"
  },
  "language_info": {
   "codemirror_mode": {
    "name": "ipython",
    "version": 3
   },
   "file_extension": ".py",
   "mimetype": "text/x-python",
   "name": "python",
   "nbconvert_exporter": "python",
   "pygments_lexer": "ipython3",
   "version": "3.5.0+"
  },
  "name": "reshape_an_pivot.ipynb"
 },
 "nbformat": 4,
 "nbformat_minor": 0
}
